{
 "cells": [
  {
   "metadata": {
    "ExecuteTime": {
     "end_time": "2025-02-26T06:54:51.575456Z",
     "start_time": "2025-02-26T06:54:51.571217Z"
    }
   },
   "cell_type": "code",
   "source": [
    "import time\n",
    "print(time.time() - 86400)"
   ],
   "id": "a6645088e6ad0eac",
   "outputs": [
    {
     "name": "stdout",
     "output_type": "stream",
     "text": [
      "1740466491.5734208\n"
     ]
    }
   ],
   "execution_count": 15
  },
  {
   "metadata": {
    "ExecuteTime": {
     "end_time": "2025-02-25T12:44:13.763400Z",
     "start_time": "2025-02-25T12:44:12.606393Z"
    }
   },
   "cell_type": "code",
   "source": [
    "from pybit.unified_trading import HTTP\n",
    "session = HTTP(testnet=True)\n",
    "print(session.get_mark_price_kline(\n",
    "    category=\"linear\",\n",
    "    symbol=\"BTCUSDT\",\n",
    "    interval=60,\n",
    "    limit =1\n",
    "))"
   ],
   "id": "ba2153aea1a2110b",
   "outputs": [
    {
     "name": "stdout",
     "output_type": "stream",
     "text": [
      "{'retCode': 0, 'retMsg': 'OK', 'result': {'symbol': 'BTCUSDT', 'category': 'linear', 'list': [['1740484800000', '39217.76', '79878.2', '39192.12', '77399.2']]}, 'retExtInfo': {}, 'time': 1740487453453}\n"
     ]
    }
   ],
   "execution_count": 16
  }
 ],
 "metadata": {
  "kernelspec": {
   "display_name": "Python 3",
   "language": "python",
   "name": "python3"
  },
  "language_info": {
   "codemirror_mode": {
    "name": "ipython",
    "version": 2
   },
   "file_extension": ".py",
   "mimetype": "text/x-python",
   "name": "python",
   "nbconvert_exporter": "python",
   "pygments_lexer": "ipython2",
   "version": "2.7.6"
  }
 },
 "nbformat": 4,
 "nbformat_minor": 5
}
