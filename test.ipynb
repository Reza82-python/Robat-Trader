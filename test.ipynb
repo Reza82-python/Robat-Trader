{
 "cells": [
  {
   "cell_type": "code",
   "id": "initial_id",
   "metadata": {
    "collapsed": true,
    "ExecuteTime": {
     "end_time": "2025-02-26T06:55:47.959678Z",
     "start_time": "2025-02-26T06:55:46.332082Z"
    }
   },
   "source": [
    "from pybit.unified_trading import HTTP\n",
    "import pandas as pd\n",
    "import time\n",
    "# اتصال به Bybit (در حالت تست‌نت)\n",
    "url = HTTP(testnet=True)\n",
    "# گرفتن اطلاعات آخرین قیمت\n",
    "response = url.get_index_price_kline(\n",
    "    category=\"linear\",   # نوع قرارداد (linear برای فیوچرز)\n",
    "    symbol=\"BTCUSDT\",    # نماد بازار (BTC/USDT)\n",
    "    interval=240,         # تایم‌فریم (60 دقیقه)\n",
    "    limit=200,               # تعداد داده‌ها، فقط یک کندل آخر\n",
    "    start = int(time.time()) - 86400,\n",
    ")\n",
    "if 'result' in response:\n",
    "    kline_data = response['result']\n",
    "    \n",
    "    df = pd.DataFrame(kline_data)\n",
    "    print(df.head())"
   ],
   "outputs": [
    {
     "name": "stdout",
     "output_type": "stream",
     "text": [
      "    symbol category                                               list\n",
      "0  BTCUSDT   linear  [1588392000000, 8834.19, 8855.88, 8783.97, 879...\n",
      "1  BTCUSDT   linear  [1588377600000, 8827.03, 8856.53, 8753.75, 883...\n",
      "2  BTCUSDT   linear  [1588363200000, 8728.06, 8893.58, 8668.84, 882...\n",
      "3  BTCUSDT   linear  [1588348800000, 8727.52, 8779.58, 8656.54, 872...\n",
      "4  BTCUSDT   linear  [1588334400000, 8993.2, 9019.09, 8718.86, 8727...\n"
     ]
    }
   ],
   "execution_count": 18
  },
  {
   "metadata": {
    "ExecuteTime": {
     "end_time": "2025-02-26T06:54:51.575456Z",
     "start_time": "2025-02-26T06:54:51.571217Z"
    }
   },
   "cell_type": "code",
   "source": [
    "import time\n",
    "print(time.time() - 86400)"
   ],
   "id": "a6645088e6ad0eac",
   "outputs": [
    {
     "name": "stdout",
     "output_type": "stream",
     "text": [
      "1740466491.5734208\n"
     ]
    }
   ],
   "execution_count": 15
  },
  {
   "metadata": {
    "ExecuteTime": {
     "end_time": "2025-02-25T12:44:13.763400Z",
     "start_time": "2025-02-25T12:44:12.606393Z"
    }
   },
   "cell_type": "code",
   "source": [
    "from pybit.unified_trading import HTTP\n",
    "session = HTTP(testnet=True)\n",
    "print(session.get_mark_price_kline(\n",
    "    category=\"linear\",\n",
    "    symbol=\"BTCUSDT\",\n",
    "    interval=60,\n",
    "    limit =1\n",
    "))"
   ],
   "id": "ba2153aea1a2110b",
   "outputs": [
    {
     "name": "stdout",
     "output_type": "stream",
     "text": [
      "{'retCode': 0, 'retMsg': 'OK', 'result': {'symbol': 'BTCUSDT', 'category': 'linear', 'list': [['1740484800000', '39217.76', '79878.2', '39192.12', '77399.2']]}, 'retExtInfo': {}, 'time': 1740487453453}\n"
     ]
    }
   ],
   "execution_count": 16
  }
 ],
 "metadata": {
  "kernelspec": {
   "display_name": "Python 3",
   "language": "python",
   "name": "python3"
  },
  "language_info": {
   "codemirror_mode": {
    "name": "ipython",
    "version": 2
   },
   "file_extension": ".py",
   "mimetype": "text/x-python",
   "name": "python",
   "nbconvert_exporter": "python",
   "pygments_lexer": "ipython2",
   "version": "2.7.6"
  }
 },
 "nbformat": 4,
 "nbformat_minor": 5
}
