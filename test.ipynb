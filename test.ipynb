{
 "cells": [
  {
   "metadata": {
    "ExecuteTime": {
     "end_time": "2025-02-27T06:36:29.781553Z",
     "start_time": "2025-02-27T06:36:29.751666Z"
    }
   },
   "cell_type": "code",
   "source": [
    "import pandas as pd\n",
    "from finta import TA\n",
    "\n",
    "# ایجاد داده‌های نمونه\n",
    "data = pd.DataFrame({\n",
    "    'close': [10, 12, 14, 16, 18, 20, 22, 24, 26, 28]\n",
    "})\n",
    "\n",
    "# محاسبه EMA\n",
    "data['EMA'] = TA.EMA(data, 3)\n",
    "print(data)"
   ],
   "id": "887aefc71fd00b27",
   "outputs": [
    {
     "ename": "LookupError",
     "evalue": "Must have a dataframe column named \"open\"",
     "output_type": "error",
     "traceback": [
      "\u001B[1;31m---------------------------------------------------------------------------\u001B[0m",
      "\u001B[1;31mLookupError\u001B[0m                               Traceback (most recent call last)",
      "Cell \u001B[1;32mIn[5], line 10\u001B[0m\n\u001B[0;32m      5\u001B[0m data \u001B[38;5;241m=\u001B[39m pd\u001B[38;5;241m.\u001B[39mDataFrame({\n\u001B[0;32m      6\u001B[0m     \u001B[38;5;124m'\u001B[39m\u001B[38;5;124mclose\u001B[39m\u001B[38;5;124m'\u001B[39m: [\u001B[38;5;241m10\u001B[39m, \u001B[38;5;241m12\u001B[39m, \u001B[38;5;241m14\u001B[39m, \u001B[38;5;241m16\u001B[39m, \u001B[38;5;241m18\u001B[39m, \u001B[38;5;241m20\u001B[39m, \u001B[38;5;241m22\u001B[39m, \u001B[38;5;241m24\u001B[39m, \u001B[38;5;241m26\u001B[39m, \u001B[38;5;241m28\u001B[39m]\n\u001B[0;32m      7\u001B[0m })\n\u001B[0;32m      9\u001B[0m \u001B[38;5;66;03m# محاسبه EMA\u001B[39;00m\n\u001B[1;32m---> 10\u001B[0m data[\u001B[38;5;124m'\u001B[39m\u001B[38;5;124mEMA\u001B[39m\u001B[38;5;124m'\u001B[39m] \u001B[38;5;241m=\u001B[39m \u001B[43mTA\u001B[49m\u001B[38;5;241;43m.\u001B[39;49m\u001B[43mEMA\u001B[49m\u001B[43m(\u001B[49m\u001B[43mdata\u001B[49m\u001B[43m,\u001B[49m\u001B[43m \u001B[49m\u001B[38;5;241;43m3\u001B[39;49m\u001B[43m)\u001B[49m\n\u001B[0;32m     11\u001B[0m \u001B[38;5;28mprint\u001B[39m(data)\n",
      "File \u001B[1;32mD:\\Robat-Trader\\myenv\\Lib\\site-packages\\finta\\finta.py:30\u001B[0m, in \u001B[0;36minputvalidator.<locals>.dfcheck.<locals>.wrap\u001B[1;34m(*args, **kwargs)\u001B[0m\n\u001B[0;32m     28\u001B[0m \u001B[38;5;28;01mfor\u001B[39;00m l \u001B[38;5;129;01min\u001B[39;00m input_:\n\u001B[0;32m     29\u001B[0m     \u001B[38;5;28;01mif\u001B[39;00m inputs[l] \u001B[38;5;129;01mnot\u001B[39;00m \u001B[38;5;129;01min\u001B[39;00m args[i]\u001B[38;5;241m.\u001B[39mcolumns:\n\u001B[1;32m---> 30\u001B[0m         \u001B[38;5;28;01mraise\u001B[39;00m \u001B[38;5;167;01mLookupError\u001B[39;00m(\n\u001B[0;32m     31\u001B[0m             \u001B[38;5;124m'\u001B[39m\u001B[38;5;124mMust have a dataframe column named \u001B[39m\u001B[38;5;124m\"\u001B[39m\u001B[38;5;132;01m{0}\u001B[39;00m\u001B[38;5;124m\"\u001B[39m\u001B[38;5;124m'\u001B[39m\u001B[38;5;241m.\u001B[39mformat(inputs[l])\n\u001B[0;32m     32\u001B[0m         )\n\u001B[0;32m     34\u001B[0m \u001B[38;5;28;01mreturn\u001B[39;00m func(\u001B[38;5;241m*\u001B[39margs, \u001B[38;5;241m*\u001B[39m\u001B[38;5;241m*\u001B[39mkwargs)\n",
      "\u001B[1;31mLookupError\u001B[0m: Must have a dataframe column named \"open\""
     ]
    }
   ],
   "execution_count": 5
  }
 ],
 "metadata": {
  "kernelspec": {
   "display_name": "Python 3",
   "language": "python",
   "name": "python3"
  },
  "language_info": {
   "codemirror_mode": {
    "name": "ipython",
    "version": 2
   },
   "file_extension": ".py",
   "mimetype": "text/x-python",
   "name": "python",
   "nbconvert_exporter": "python",
   "pygments_lexer": "ipython2",
   "version": "2.7.6"
  }
 },
 "nbformat": 4,
 "nbformat_minor": 5
}
