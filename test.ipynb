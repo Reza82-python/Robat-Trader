{
 "cells": [
  {
   "cell_type": "code",
   "id": "initial_id",
   "metadata": {
    "collapsed": true,
    "ExecuteTime": {
     "end_time": "2025-02-25T13:34:13.601812Z",
     "start_time": "2025-02-25T13:34:10.672388Z"
    }
   },
   "source": [
    "from pybit.unified_trading import HTTP\n",
    "\n",
    "# اتصال به Bybit (در حالت تست‌نت)\n",
    "session = HTTP(testnet=True)\n",
    "\n",
    "# گرفتن اطلاعات آخرین قیمت\n",
    "response = session.get_index_price_kline(\n",
    "    category=\"linear\",   # نوع قرارداد (linear برای فیوچرز)\n",
    "    symbol=\"BTCUSDT\",    # نماد بازار (BTC/USDT)\n",
    "    interval=1,         # تایم‌فریم (60 دقیقه)\n",
    "    limit=1               # تعداد داده‌ها، فقط یک کندل آخر\n",
    ")\n",
    "\n",
    "# نمایش پاسخ\n",
    "print(response)"
   ],
   "outputs": [
    {
     "name": "stdout",
     "output_type": "stream",
     "text": [
      "{'retCode': 0, 'retMsg': 'OK', 'result': {'symbol': 'BTCUSDT', 'category': 'linear', 'list': [['1740490440000', '89023.75', '89024.67', '88989.7', '88989.81']]}, 'retExtInfo': {}, 'time': 1740490453292}\n"
     ]
    }
   ],
   "execution_count": 27
  },
  {
   "metadata": {
    "ExecuteTime": {
     "end_time": "2025-02-25T12:44:13.763400Z",
     "start_time": "2025-02-25T12:44:12.606393Z"
    }
   },
   "cell_type": "code",
   "source": [
    "from pybit.unified_trading import HTTP\n",
    "session = HTTP(testnet=True)\n",
    "print(session.get_mark_price_kline(\n",
    "    category=\"linear\",\n",
    "    symbol=\"BTCUSDT\",\n",
    "    interval=60,\n",
    "    limit =1\n",
    "))"
   ],
   "id": "ba2153aea1a2110b",
   "outputs": [
    {
     "name": "stdout",
     "output_type": "stream",
     "text": [
      "{'retCode': 0, 'retMsg': 'OK', 'result': {'symbol': 'BTCUSDT', 'category': 'linear', 'list': [['1740484800000', '39217.76', '79878.2', '39192.12', '77399.2']]}, 'retExtInfo': {}, 'time': 1740487453453}\n"
     ]
    }
   ],
   "execution_count": 16
  }
 ],
 "metadata": {
  "kernelspec": {
   "display_name": "Python 3",
   "language": "python",
   "name": "python3"
  },
  "language_info": {
   "codemirror_mode": {
    "name": "ipython",
    "version": 2
   },
   "file_extension": ".py",
   "mimetype": "text/x-python",
   "name": "python",
   "nbconvert_exporter": "python",
   "pygments_lexer": "ipython2",
   "version": "2.7.6"
  }
 },
 "nbformat": 4,
 "nbformat_minor": 5
}
